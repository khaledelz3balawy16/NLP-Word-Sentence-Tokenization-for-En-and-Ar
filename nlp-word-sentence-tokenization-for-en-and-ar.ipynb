{
 "cells": [
  {
   "cell_type": "markdown",
   "id": "296d2504",
   "metadata": {
    "papermill": {
     "duration": 0.006333,
     "end_time": "2024-11-21T12:51:17.247046",
     "exception": false,
     "start_time": "2024-11-21T12:51:17.240713",
     "status": "completed"
    },
    "tags": []
   },
   "source": [
    "## Tokenization: A Fundamental Step in NLP\r\n",
    "Tokenization is a crucial step in Natural Language Processing (NLP) that involves breaking down text into smaller components called \"tokens.\" These tokens can be words, sentences, or even characters, depending on the specific application.\r\n",
    "\r\n",
    "*In this noteb* ook, we will explore the concept of tokenization, why it is essential, and how it is implemented. We will demonstrate word and sentence tokenization for both English and Arabic text. By the end of this notebook, you will have a clear understanding of how to tokenize text effectively and handle the challenges that arise during the process.\r\n",
    "\r\n",
    "Let's get started! 🚀"
   ]
  },
  {
   "cell_type": "code",
   "execution_count": 1,
   "id": "10865b10",
   "metadata": {
    "execution": {
     "iopub.execute_input": "2024-11-21T12:51:17.260888Z",
     "iopub.status.busy": "2024-11-21T12:51:17.260111Z",
     "iopub.status.idle": "2024-11-21T12:51:36.979956Z",
     "shell.execute_reply": "2024-11-21T12:51:36.978782Z"
    },
    "papermill": {
     "duration": 19.729199,
     "end_time": "2024-11-21T12:51:36.981777",
     "exception": false,
     "start_time": "2024-11-21T12:51:17.252578",
     "status": "completed"
    },
    "tags": []
   },
   "outputs": [
    {
     "name": "stdout",
     "output_type": "stream",
     "text": [
      "Requirement already satisfied: spacy in /opt/conda/lib/python3.10/site-packages (3.7.6)\r\n",
      "Collecting spacy\r\n",
      "  Downloading spacy-3.8.2-cp310-cp310-manylinux_2_17_x86_64.manylinux2014_x86_64.whl.metadata (27 kB)\r\n",
      "Requirement already satisfied: spacy-legacy<3.1.0,>=3.0.11 in /opt/conda/lib/python3.10/site-packages (from spacy) (3.0.12)\r\n",
      "Requirement already satisfied: spacy-loggers<2.0.0,>=1.0.0 in /opt/conda/lib/python3.10/site-packages (from spacy) (1.0.5)\r\n",
      "Requirement already satisfied: murmurhash<1.1.0,>=0.28.0 in /opt/conda/lib/python3.10/site-packages (from spacy) (1.0.10)\r\n",
      "Requirement already satisfied: cymem<2.1.0,>=2.0.2 in /opt/conda/lib/python3.10/site-packages (from spacy) (2.0.8)\r\n",
      "Requirement already satisfied: preshed<3.1.0,>=3.0.2 in /opt/conda/lib/python3.10/site-packages (from spacy) (3.0.9)\r\n",
      "Collecting thinc<8.4.0,>=8.3.0 (from spacy)\r\n",
      "  Downloading thinc-8.3.2-cp310-cp310-manylinux_2_17_x86_64.manylinux2014_x86_64.whl.metadata (15 kB)\r\n",
      "Requirement already satisfied: wasabi<1.2.0,>=0.9.1 in /opt/conda/lib/python3.10/site-packages (from spacy) (1.1.2)\r\n",
      "Requirement already satisfied: srsly<3.0.0,>=2.4.3 in /opt/conda/lib/python3.10/site-packages (from spacy) (2.4.8)\r\n",
      "Requirement already satisfied: catalogue<2.1.0,>=2.0.6 in /opt/conda/lib/python3.10/site-packages (from spacy) (2.0.10)\r\n",
      "Requirement already satisfied: weasel<0.5.0,>=0.1.0 in /opt/conda/lib/python3.10/site-packages (from spacy) (0.4.1)\r\n",
      "Requirement already satisfied: typer<1.0.0,>=0.3.0 in /opt/conda/lib/python3.10/site-packages (from spacy) (0.12.3)\r\n",
      "Requirement already satisfied: tqdm<5.0.0,>=4.38.0 in /opt/conda/lib/python3.10/site-packages (from spacy) (4.66.4)\r\n",
      "Requirement already satisfied: requests<3.0.0,>=2.13.0 in /opt/conda/lib/python3.10/site-packages (from spacy) (2.32.3)\r\n",
      "Requirement already satisfied: pydantic!=1.8,!=1.8.1,<3.0.0,>=1.7.4 in /opt/conda/lib/python3.10/site-packages (from spacy) (2.9.2)\r\n",
      "Requirement already satisfied: jinja2 in /opt/conda/lib/python3.10/site-packages (from spacy) (3.1.4)\r\n",
      "Requirement already satisfied: setuptools in /opt/conda/lib/python3.10/site-packages (from spacy) (70.0.0)\r\n",
      "Requirement already satisfied: packaging>=20.0 in /opt/conda/lib/python3.10/site-packages (from spacy) (21.3)\r\n",
      "Requirement already satisfied: langcodes<4.0.0,>=3.2.0 in /opt/conda/lib/python3.10/site-packages (from spacy) (3.4.1)\r\n",
      "Requirement already satisfied: numpy>=1.19.0 in /opt/conda/lib/python3.10/site-packages (from spacy) (1.26.4)\r\n",
      "Requirement already satisfied: language-data>=1.2 in /opt/conda/lib/python3.10/site-packages (from langcodes<4.0.0,>=3.2.0->spacy) (1.2.0)\r\n",
      "Requirement already satisfied: pyparsing!=3.0.5,>=2.0.2 in /opt/conda/lib/python3.10/site-packages (from packaging>=20.0->spacy) (3.1.2)\r\n",
      "Requirement already satisfied: annotated-types>=0.6.0 in /opt/conda/lib/python3.10/site-packages (from pydantic!=1.8,!=1.8.1,<3.0.0,>=1.7.4->spacy) (0.7.0)\r\n",
      "Requirement already satisfied: pydantic-core==2.23.4 in /opt/conda/lib/python3.10/site-packages (from pydantic!=1.8,!=1.8.1,<3.0.0,>=1.7.4->spacy) (2.23.4)\r\n",
      "Requirement already satisfied: typing-extensions>=4.6.1 in /opt/conda/lib/python3.10/site-packages (from pydantic!=1.8,!=1.8.1,<3.0.0,>=1.7.4->spacy) (4.12.2)\r\n",
      "Requirement already satisfied: charset-normalizer<4,>=2 in /opt/conda/lib/python3.10/site-packages (from requests<3.0.0,>=2.13.0->spacy) (3.3.2)\r\n",
      "Requirement already satisfied: idna<4,>=2.5 in /opt/conda/lib/python3.10/site-packages (from requests<3.0.0,>=2.13.0->spacy) (3.7)\r\n",
      "Requirement already satisfied: urllib3<3,>=1.21.1 in /opt/conda/lib/python3.10/site-packages (from requests<3.0.0,>=2.13.0->spacy) (1.26.18)\r\n",
      "Requirement already satisfied: certifi>=2017.4.17 in /opt/conda/lib/python3.10/site-packages (from requests<3.0.0,>=2.13.0->spacy) (2024.8.30)\r\n",
      "Collecting blis<1.1.0,>=1.0.0 (from thinc<8.4.0,>=8.3.0->spacy)\r\n",
      "  Downloading blis-1.0.1-cp310-cp310-manylinux_2_17_x86_64.manylinux2014_x86_64.whl.metadata (7.6 kB)\r\n",
      "Requirement already satisfied: confection<1.0.0,>=0.0.1 in /opt/conda/lib/python3.10/site-packages (from thinc<8.4.0,>=8.3.0->spacy) (0.1.4)\r\n",
      "Collecting numpy>=1.19.0 (from spacy)\r\n",
      "  Downloading numpy-2.0.2-cp310-cp310-manylinux_2_17_x86_64.manylinux2014_x86_64.whl.metadata (60 kB)\r\n",
      "\u001b[2K     \u001b[90m━━━━━━━━━━━━━━━━━━━━━━━━━━━━━━━━━━━━━━━━\u001b[0m \u001b[32m60.9/60.9 kB\u001b[0m \u001b[31m2.4 MB/s\u001b[0m eta \u001b[36m0:00:00\u001b[0m\r\n",
      "\u001b[?25hRequirement already satisfied: click>=8.0.0 in /opt/conda/lib/python3.10/site-packages (from typer<1.0.0,>=0.3.0->spacy) (8.1.7)\r\n",
      "Requirement already satisfied: shellingham>=1.3.0 in /opt/conda/lib/python3.10/site-packages (from typer<1.0.0,>=0.3.0->spacy) (1.5.4)\r\n",
      "Requirement already satisfied: rich>=10.11.0 in /opt/conda/lib/python3.10/site-packages (from typer<1.0.0,>=0.3.0->spacy) (13.7.1)\r\n",
      "Requirement already satisfied: cloudpathlib<1.0.0,>=0.7.0 in /opt/conda/lib/python3.10/site-packages (from weasel<0.5.0,>=0.1.0->spacy) (0.19.0)\r\n",
      "Requirement already satisfied: smart-open<8.0.0,>=5.2.1 in /opt/conda/lib/python3.10/site-packages (from weasel<0.5.0,>=0.1.0->spacy) (7.0.4)\r\n",
      "Requirement already satisfied: MarkupSafe>=2.0 in /opt/conda/lib/python3.10/site-packages (from jinja2->spacy) (2.1.5)\r\n",
      "Requirement already satisfied: marisa-trie>=0.7.7 in /opt/conda/lib/python3.10/site-packages (from language-data>=1.2->langcodes<4.0.0,>=3.2.0->spacy) (1.1.0)\r\n",
      "Requirement already satisfied: markdown-it-py>=2.2.0 in /opt/conda/lib/python3.10/site-packages (from rich>=10.11.0->typer<1.0.0,>=0.3.0->spacy) (3.0.0)\r\n",
      "Requirement already satisfied: pygments<3.0.0,>=2.13.0 in /opt/conda/lib/python3.10/site-packages (from rich>=10.11.0->typer<1.0.0,>=0.3.0->spacy) (2.18.0)\r\n",
      "Requirement already satisfied: wrapt in /opt/conda/lib/python3.10/site-packages (from smart-open<8.0.0,>=5.2.1->weasel<0.5.0,>=0.1.0->spacy) (1.16.0)\r\n",
      "Requirement already satisfied: mdurl~=0.1 in /opt/conda/lib/python3.10/site-packages (from markdown-it-py>=2.2.0->rich>=10.11.0->typer<1.0.0,>=0.3.0->spacy) (0.1.2)\r\n",
      "Downloading spacy-3.8.2-cp310-cp310-manylinux_2_17_x86_64.manylinux2014_x86_64.whl (29.1 MB)\r\n",
      "\u001b[2K   \u001b[90m━━━━━━━━━━━━━━━━━━━━━━━━━━━━━━━━━━━━━━━━\u001b[0m \u001b[32m29.1/29.1 MB\u001b[0m \u001b[31m56.9 MB/s\u001b[0m eta \u001b[36m0:00:00\u001b[0m\r\n",
      "\u001b[?25hDownloading thinc-8.3.2-cp310-cp310-manylinux_2_17_x86_64.manylinux2014_x86_64.whl (3.7 MB)\r\n",
      "\u001b[2K   \u001b[90m━━━━━━━━━━━━━━━━━━━━━━━━━━━━━━━━━━━━━━━━\u001b[0m \u001b[32m3.7/3.7 MB\u001b[0m \u001b[31m84.9 MB/s\u001b[0m eta \u001b[36m0:00:00\u001b[0m\r\n",
      "\u001b[?25hDownloading numpy-2.0.2-cp310-cp310-manylinux_2_17_x86_64.manylinux2014_x86_64.whl (19.5 MB)\r\n",
      "\u001b[2K   \u001b[90m━━━━━━━━━━━━━━━━━━━━━━━━━━━━━━━━━━━━━━━━\u001b[0m \u001b[32m19.5/19.5 MB\u001b[0m \u001b[31m81.0 MB/s\u001b[0m eta \u001b[36m0:00:00\u001b[0m\r\n",
      "\u001b[?25hDownloading blis-1.0.1-cp310-cp310-manylinux_2_17_x86_64.manylinux2014_x86_64.whl (9.2 MB)\r\n",
      "\u001b[2K   \u001b[90m━━━━━━━━━━━━━━━━━━━━━━━━━━━━━━━━━━━━━━━━\u001b[0m \u001b[32m9.2/9.2 MB\u001b[0m \u001b[31m100.4 MB/s\u001b[0m eta \u001b[36m0:00:00\u001b[0m\r\n",
      "\u001b[?25hInstalling collected packages: numpy, blis, thinc, spacy\r\n",
      "  Attempting uninstall: numpy\r\n",
      "    Found existing installation: numpy 1.26.4\r\n",
      "    Uninstalling numpy-1.26.4:\r\n",
      "      Successfully uninstalled numpy-1.26.4\r\n",
      "  Attempting uninstall: blis\r\n",
      "    Found existing installation: blis 0.7.10\r\n",
      "    Uninstalling blis-0.7.10:\r\n",
      "      Successfully uninstalled blis-0.7.10\r\n",
      "  Attempting uninstall: thinc\r\n",
      "    Found existing installation: thinc 8.2.5\r\n",
      "    Uninstalling thinc-8.2.5:\r\n",
      "      Successfully uninstalled thinc-8.2.5\r\n",
      "  Attempting uninstall: spacy\r\n",
      "    Found existing installation: spacy 3.7.6\r\n",
      "    Uninstalling spacy-3.7.6:\r\n",
      "      Successfully uninstalled spacy-3.7.6\r\n",
      "\u001b[31mERROR: pip's dependency resolver does not currently take into account all the packages that are installed. This behaviour is the source of the following dependency conflicts.\r\n",
      "cudf 24.8.3 requires cubinlinker, which is not installed.\r\n",
      "cudf 24.8.3 requires cupy-cuda11x>=12.0.0, which is not installed.\r\n",
      "cudf 24.8.3 requires ptxcompiler, which is not installed.\r\n",
      "cuml 24.8.0 requires cupy-cuda11x>=12.0.0, which is not installed.\r\n",
      "dask-cudf 24.8.3 requires cupy-cuda11x>=12.0.0, which is not installed.\r\n",
      "ucxx 0.39.1 requires libucx>=1.15.0, which is not installed.\r\n",
      "apache-beam 2.46.0 requires cloudpickle~=2.2.1, but you have cloudpickle 3.0.0 which is incompatible.\r\n",
      "apache-beam 2.46.0 requires dill<0.3.2,>=0.3.1.1, but you have dill 0.3.8 which is incompatible.\r\n",
      "apache-beam 2.46.0 requires numpy<1.25.0,>=1.14.3, but you have numpy 2.0.2 which is incompatible.\r\n",
      "apache-beam 2.46.0 requires pyarrow<10.0.0,>=3.0.0, but you have pyarrow 16.1.0 which is incompatible.\r\n",
      "catboost 1.2.7 requires numpy<2.0,>=1.16.0, but you have numpy 2.0.2 which is incompatible.\r\n",
      "cudf 24.8.3 requires cuda-python<12.0a0,>=11.7.1, but you have cuda-python 12.6.0 which is incompatible.\r\n",
      "cudf 24.8.3 requires numpy<2.0a0,>=1.23, but you have numpy 2.0.2 which is incompatible.\r\n",
      "dask-cuda 24.8.2 requires numpy<2.0a0,>=1.23, but you have numpy 2.0.2 which is incompatible.\r\n",
      "dask-cudf 24.8.3 requires numpy<2.0a0,>=1.23, but you have numpy 2.0.2 which is incompatible.\r\n",
      "en-core-web-lg 3.7.1 requires spacy<3.8.0,>=3.7.2, but you have spacy 3.8.2 which is incompatible.\r\n",
      "en-core-web-sm 3.7.1 requires spacy<3.8.0,>=3.7.2, but you have spacy 3.8.2 which is incompatible.\r\n",
      "gensim 4.3.3 requires numpy<2.0,>=1.18.5, but you have numpy 2.0.2 which is incompatible.\r\n",
      "gensim 4.3.3 requires scipy<1.14.0,>=1.7.0, but you have scipy 1.14.1 which is incompatible.\r\n",
      "ibis-framework 7.1.0 requires numpy<2,>=1, but you have numpy 2.0.2 which is incompatible.\r\n",
      "ibis-framework 7.1.0 requires pyarrow<15,>=2, but you have pyarrow 16.1.0 which is incompatible.\r\n",
      "libpysal 4.9.2 requires packaging>=22, but you have packaging 21.3 which is incompatible.\r\n",
      "libpysal 4.9.2 requires shapely>=2.0.1, but you have shapely 1.8.5.post1 which is incompatible.\r\n",
      "matplotlib 3.7.5 requires numpy<2,>=1.20, but you have numpy 2.0.2 which is incompatible.\r\n",
      "pylibraft 24.8.1 requires numpy<2.0a0,>=1.23, but you have numpy 2.0.2 which is incompatible.\r\n",
      "raft-dask 24.8.1 requires numpy<2.0a0,>=1.23, but you have numpy 2.0.2 which is incompatible.\r\n",
      "rmm 24.8.2 requires cuda-python<12.0a0,>=11.7.1, but you have cuda-python 12.6.0 which is incompatible.\r\n",
      "rmm 24.8.2 requires numpy<2.0a0,>=1.23, but you have numpy 2.0.2 which is incompatible.\r\n",
      "tensorflow 2.16.1 requires numpy<2.0.0,>=1.23.5; python_version <= \"3.11\", but you have numpy 2.0.2 which is incompatible.\r\n",
      "tensorflow-transform 0.14.0 requires numpy<2,>=1.16, but you have numpy 2.0.2 which is incompatible.\r\n",
      "ucx-py 0.39.2 requires numpy<2.0a0,>=1.23, but you have numpy 2.0.2 which is incompatible.\r\n",
      "ucxx 0.39.1 requires numpy<2.0a0,>=1.23, but you have numpy 2.0.2 which is incompatible.\r\n",
      "xarray 2024.9.0 requires packaging>=23.1, but you have packaging 21.3 which is incompatible.\r\n",
      "ydata-profiling 4.10.0 requires scipy<1.14,>=1.4.1, but you have scipy 1.14.1 which is incompatible.\u001b[0m\u001b[31m\r\n",
      "\u001b[0mSuccessfully installed blis-1.0.1 numpy-2.0.2 spacy-3.8.2 thinc-8.3.2\r\n",
      "Note: you may need to restart the kernel to use updated packages.\n"
     ]
    }
   ],
   "source": [
    "pip install -U spacy"
   ]
  },
  {
   "cell_type": "code",
   "execution_count": 2,
   "id": "018a7be7",
   "metadata": {
    "execution": {
     "iopub.execute_input": "2024-11-21T12:51:36.999804Z",
     "iopub.status.busy": "2024-11-21T12:51:36.999450Z",
     "iopub.status.idle": "2024-11-21T12:51:44.178809Z",
     "shell.execute_reply": "2024-11-21T12:51:44.178094Z"
    },
    "papermill": {
     "duration": 7.19085,
     "end_time": "2024-11-21T12:51:44.180916",
     "exception": false,
     "start_time": "2024-11-21T12:51:36.990066",
     "status": "completed"
    },
    "tags": []
   },
   "outputs": [
    {
     "name": "stderr",
     "output_type": "stream",
     "text": [
      "/opt/conda/lib/python3.10/site-packages/spacy/util.py:910: UserWarning: [W095] Model 'en_core_web_sm' (3.7.1) was trained with spaCy v3.7.2 and may not be 100% compatible with the current version (3.8.2). If you see errors or degraded performance, download a newer compatible model or retrain your custom model with the current spaCy version. For more details and available updates, run: python -m spacy validate\n",
      "  warnings.warn(warn_msg)\n"
     ]
    }
   ],
   "source": [
    "import spacy\n",
    "nlp = spacy.load('en_core_web_sm')"
   ]
  },
  {
   "cell_type": "code",
   "execution_count": 3,
   "id": "ae113adf",
   "metadata": {
    "execution": {
     "iopub.execute_input": "2024-11-21T12:51:44.197929Z",
     "iopub.status.busy": "2024-11-21T12:51:44.197466Z",
     "iopub.status.idle": "2024-11-21T12:51:44.211281Z",
     "shell.execute_reply": "2024-11-21T12:51:44.210661Z"
    },
    "papermill": {
     "duration": 0.024224,
     "end_time": "2024-11-21T12:51:44.212948",
     "exception": false,
     "start_time": "2024-11-21T12:51:44.188724",
     "status": "completed"
    },
    "tags": []
   },
   "outputs": [],
   "source": [
    "doc = nlp('I am Khaled, an AI engineer who is always striving to improve my skills.')\n"
   ]
  },
  {
   "cell_type": "code",
   "execution_count": 4,
   "id": "2c41feb0",
   "metadata": {
    "execution": {
     "iopub.execute_input": "2024-11-21T12:51:44.229552Z",
     "iopub.status.busy": "2024-11-21T12:51:44.229288Z",
     "iopub.status.idle": "2024-11-21T12:51:44.235413Z",
     "shell.execute_reply": "2024-11-21T12:51:44.234619Z"
    },
    "papermill": {
     "duration": 0.016451,
     "end_time": "2024-11-21T12:51:44.237127",
     "exception": false,
     "start_time": "2024-11-21T12:51:44.220676",
     "status": "completed"
    },
    "tags": []
   },
   "outputs": [
    {
     "data": {
      "text/plain": [
       "spacy.tokens.doc.Doc"
      ]
     },
     "execution_count": 4,
     "metadata": {},
     "output_type": "execute_result"
    }
   ],
   "source": [
    "type(doc)\n"
   ]
  },
  {
   "cell_type": "code",
   "execution_count": 5,
   "id": "68714423",
   "metadata": {
    "execution": {
     "iopub.execute_input": "2024-11-21T12:51:44.253694Z",
     "iopub.status.busy": "2024-11-21T12:51:44.253373Z",
     "iopub.status.idle": "2024-11-21T12:51:44.258686Z",
     "shell.execute_reply": "2024-11-21T12:51:44.257792Z"
    },
    "papermill": {
     "duration": 0.015778,
     "end_time": "2024-11-21T12:51:44.260608",
     "exception": false,
     "start_time": "2024-11-21T12:51:44.244830",
     "status": "completed"
    },
    "tags": []
   },
   "outputs": [
    {
     "name": "stdout",
     "output_type": "stream",
     "text": [
      "I\n",
      "X\n",
      "True\n",
      "---------------\n",
      "am\n",
      "xx\n",
      "True\n",
      "---------------\n",
      "Khaled\n",
      "Xxxxx\n",
      "True\n",
      "---------------\n",
      ",\n",
      ",\n",
      "False\n",
      "---------------\n",
      "an\n",
      "xx\n",
      "True\n",
      "---------------\n",
      "AI\n",
      "XX\n",
      "True\n",
      "---------------\n",
      "engineer\n",
      "xxxx\n",
      "True\n",
      "---------------\n",
      "who\n",
      "xxx\n",
      "True\n",
      "---------------\n",
      "is\n",
      "xx\n",
      "True\n",
      "---------------\n",
      "always\n",
      "xxxx\n",
      "True\n",
      "---------------\n",
      "striving\n",
      "xxxx\n",
      "True\n",
      "---------------\n",
      "to\n",
      "xx\n",
      "True\n",
      "---------------\n",
      "improve\n",
      "xxxx\n",
      "True\n",
      "---------------\n",
      "my\n",
      "xx\n",
      "True\n",
      "---------------\n",
      "skills\n",
      "xxxx\n",
      "True\n",
      "---------------\n",
      ".\n",
      ".\n",
      "False\n",
      "---------------\n"
     ]
    }
   ],
   "source": [
    "for token in doc:\n",
    "    print(token.text)\n",
    "#     print(token.shape)\n",
    "    print(token.shape_)\n",
    "    print(token.is_alpha)\n",
    "#     print(token.is_stop)\n",
    "    print('---------------')"
   ]
  },
  {
   "cell_type": "code",
   "execution_count": 6,
   "id": "95e26dff",
   "metadata": {
    "execution": {
     "iopub.execute_input": "2024-11-21T12:51:44.277219Z",
     "iopub.status.busy": "2024-11-21T12:51:44.276622Z",
     "iopub.status.idle": "2024-11-21T12:51:44.282360Z",
     "shell.execute_reply": "2024-11-21T12:51:44.281616Z"
    },
    "papermill": {
     "duration": 0.015652,
     "end_time": "2024-11-21T12:51:44.283821",
     "exception": false,
     "start_time": "2024-11-21T12:51:44.268169",
     "status": "completed"
    },
    "tags": []
   },
   "outputs": [
    {
     "data": {
      "text/plain": [
       "(I, am, Khaled, ,, an, AI, engineer, who)"
      ]
     },
     "execution_count": 6,
     "metadata": {},
     "output_type": "execute_result"
    }
   ],
   "source": [
    "doc[0] , doc[1] , doc[2] , doc[3] , doc[4] , doc[5] , doc[6] , doc[7] , "
   ]
  },
  {
   "cell_type": "code",
   "execution_count": 7,
   "id": "526d1aae",
   "metadata": {
    "execution": {
     "iopub.execute_input": "2024-11-21T12:51:44.300167Z",
     "iopub.status.busy": "2024-11-21T12:51:44.299915Z",
     "iopub.status.idle": "2024-11-21T12:51:44.318156Z",
     "shell.execute_reply": "2024-11-21T12:51:44.317202Z"
    },
    "papermill": {
     "duration": 0.028431,
     "end_time": "2024-11-21T12:51:44.319834",
     "exception": false,
     "start_time": "2024-11-21T12:51:44.291403",
     "status": "completed"
    },
    "tags": []
   },
   "outputs": [],
   "source": [
    "doc2 = nlp('''\n",
    "Although commmonly attributed to John Lennon from his song \"Beautiful Boy\",\n",
    "the phrase \"Life is what happens to us while we are making other plans\" was written by cartoonist Allen Saunders and\n",
    "published in Reader\\'s Digest in 1957, when Lennon was 17.    \n",
    "''')"
   ]
  },
  {
   "cell_type": "code",
   "execution_count": 8,
   "id": "abfa0c99",
   "metadata": {
    "execution": {
     "iopub.execute_input": "2024-11-21T12:51:44.336546Z",
     "iopub.status.busy": "2024-11-21T12:51:44.336284Z",
     "iopub.status.idle": "2024-11-21T12:51:44.340286Z",
     "shell.execute_reply": "2024-11-21T12:51:44.339516Z"
    },
    "papermill": {
     "duration": 0.014343,
     "end_time": "2024-11-21T12:51:44.342038",
     "exception": false,
     "start_time": "2024-11-21T12:51:44.327695",
     "status": "completed"
    },
    "tags": []
   },
   "outputs": [
    {
     "name": "stdout",
     "output_type": "stream",
     "text": [
      "Life is what happens to us while we are making other plans\n"
     ]
    }
   ],
   "source": [
    "life_quote = doc2[19:31]\n",
    "print(life_quote)"
   ]
  },
  {
   "cell_type": "code",
   "execution_count": 9,
   "id": "3d9170b2",
   "metadata": {
    "execution": {
     "iopub.execute_input": "2024-11-21T12:51:44.358331Z",
     "iopub.status.busy": "2024-11-21T12:51:44.358091Z",
     "iopub.status.idle": "2024-11-21T12:51:44.361742Z",
     "shell.execute_reply": "2024-11-21T12:51:44.361073Z"
    },
    "papermill": {
     "duration": 0.013767,
     "end_time": "2024-11-21T12:51:44.363540",
     "exception": false,
     "start_time": "2024-11-21T12:51:44.349773",
     "status": "completed"
    },
    "tags": []
   },
   "outputs": [
    {
     "name": "stdout",
     "output_type": "stream",
     "text": [
      "\"We're moving to L.A.!\"\n"
     ]
    }
   ],
   "source": [
    "mystring = '\"We\\'re moving to L.A.!\"'\n",
    "print(mystring)"
   ]
  },
  {
   "cell_type": "code",
   "execution_count": 10,
   "id": "a18a838c",
   "metadata": {
    "execution": {
     "iopub.execute_input": "2024-11-21T12:51:44.379679Z",
     "iopub.status.busy": "2024-11-21T12:51:44.379428Z",
     "iopub.status.idle": "2024-11-21T12:51:44.390659Z",
     "shell.execute_reply": "2024-11-21T12:51:44.389767Z"
    },
    "papermill": {
     "duration": 0.021314,
     "end_time": "2024-11-21T12:51:44.392442",
     "exception": false,
     "start_time": "2024-11-21T12:51:44.371128",
     "status": "completed"
    },
    "tags": []
   },
   "outputs": [
    {
     "name": "stdout",
     "output_type": "stream",
     "text": [
      "\" | We | 're | moving | to | L.A. | ! | \" | "
     ]
    }
   ],
   "source": [
    "doc3 = nlp(mystring)\n",
    "\n",
    "for token in doc3:\n",
    "    print(token.text, end=' | ')"
   ]
  },
  {
   "cell_type": "code",
   "execution_count": 11,
   "id": "8ff9b497",
   "metadata": {
    "execution": {
     "iopub.execute_input": "2024-11-21T12:51:44.410039Z",
     "iopub.status.busy": "2024-11-21T12:51:44.409784Z",
     "iopub.status.idle": "2024-11-21T12:51:44.422114Z",
     "shell.execute_reply": "2024-11-21T12:51:44.421181Z"
    },
    "papermill": {
     "duration": 0.023339,
     "end_time": "2024-11-21T12:51:44.424036",
     "exception": false,
     "start_time": "2024-11-21T12:51:44.400697",
     "status": "completed"
    },
    "tags": []
   },
   "outputs": [
    {
     "name": "stdout",
     "output_type": "stream",
     "text": [
      "We\n",
      "'re\n",
      "here\n",
      "to\n",
      "help\n",
      "!\n",
      "Send\n",
      "snail\n",
      "-\n",
      "mail\n",
      ",\n",
      "email\n",
      "support@oursite.com\n",
      "or\n",
      "visit\n",
      "us\n",
      "at\n",
      "http://www.oursite.com\n",
      "!\n"
     ]
    }
   ],
   "source": [
    "doc4 = nlp(u\"We're here to help! Send snail-mail, email support@oursite.com or visit us at http://www.oursite.com!\")\n",
    "\n",
    "for token in doc4:\n",
    "    print(token)"
   ]
  },
  {
   "cell_type": "code",
   "execution_count": 12,
   "id": "a12938d3",
   "metadata": {
    "execution": {
     "iopub.execute_input": "2024-11-21T12:51:44.441338Z",
     "iopub.status.busy": "2024-11-21T12:51:44.441064Z",
     "iopub.status.idle": "2024-11-21T12:51:44.452258Z",
     "shell.execute_reply": "2024-11-21T12:51:44.451495Z"
    },
    "papermill": {
     "duration": 0.02143,
     "end_time": "2024-11-21T12:51:44.453950",
     "exception": false,
     "start_time": "2024-11-21T12:51:44.432520",
     "status": "completed"
    },
    "tags": []
   },
   "outputs": [
    {
     "name": "stdout",
     "output_type": "stream",
     "text": [
      "A\n",
      "5\n",
      "km\n",
      "NYC\n",
      "cab\n",
      "ride\n",
      "costs\n",
      "$\n",
      "10.30\n"
     ]
    }
   ],
   "source": [
    "doc5 = nlp(u'A 5km NYC cab ride costs $10.30')\n",
    "\n",
    "for token in doc5:\n",
    "    print(token)"
   ]
  },
  {
   "cell_type": "code",
   "execution_count": 13,
   "id": "75ce9e33",
   "metadata": {
    "execution": {
     "iopub.execute_input": "2024-11-21T12:51:44.471291Z",
     "iopub.status.busy": "2024-11-21T12:51:44.471026Z",
     "iopub.status.idle": "2024-11-21T12:51:44.482434Z",
     "shell.execute_reply": "2024-11-21T12:51:44.481402Z"
    },
    "papermill": {
     "duration": 0.02228,
     "end_time": "2024-11-21T12:51:44.484255",
     "exception": false,
     "start_time": "2024-11-21T12:51:44.461975",
     "status": "completed"
    },
    "tags": []
   },
   "outputs": [
    {
     "name": "stdout",
     "output_type": "stream",
     "text": [
      "Let\n",
      "'s\n",
      "visit\n",
      "St.\n",
      "Louis\n",
      "in\n",
      "the\n",
      "U.S.\n",
      "next\n",
      "year\n",
      ".\n"
     ]
    }
   ],
   "source": [
    "doc6 = nlp(u\"Let's visit St. Louis in the U.S. next year.\")\n",
    "\n",
    "for token in doc6:\n",
    "    print(token)"
   ]
  },
  {
   "cell_type": "code",
   "execution_count": 14,
   "id": "8b997a08",
   "metadata": {
    "execution": {
     "iopub.execute_input": "2024-11-21T12:51:44.500985Z",
     "iopub.status.busy": "2024-11-21T12:51:44.500680Z",
     "iopub.status.idle": "2024-11-21T12:51:44.515045Z",
     "shell.execute_reply": "2024-11-21T12:51:44.513760Z"
    },
    "papermill": {
     "duration": 0.02471,
     "end_time": "2024-11-21T12:51:44.516771",
     "exception": false,
     "start_time": "2024-11-21T12:51:44.492061",
     "status": "completed"
    },
    "tags": []
   },
   "outputs": [
    {
     "name": "stdout",
     "output_type": "stream",
     "text": [
      " \n",
      " \n",
      "False\n",
      "False\n",
      "---------------\n",
      "يعد\n",
      "xxx\n",
      "True\n",
      "False\n",
      "---------------\n",
      "الذكاء\n",
      "xxxx\n",
      "True\n",
      "False\n",
      "---------------\n",
      "الإصطناعي\n",
      "xxxx\n",
      "True\n",
      "False\n",
      "---------------\n",
      "من\n",
      "xx\n",
      "True\n",
      "False\n",
      "---------------\n",
      "العلوم\n",
      "xxxx\n",
      "True\n",
      "False\n",
      "---------------\n",
      "التي\n",
      "xxxx\n",
      "True\n",
      "False\n",
      "---------------\n",
      "يتسارع\n",
      "xxxx\n",
      "True\n",
      "False\n",
      "---------------\n",
      "التطور\n",
      "xxxx\n",
      "True\n",
      "False\n",
      "---------------\n",
      "فيها\n",
      "xxxx\n",
      "True\n",
      "False\n",
      "---------------\n",
      "بشكل\n",
      "xxxx\n",
      "True\n",
      "False\n",
      "---------------\n",
      "لافت\n",
      "xxxx\n",
      "True\n",
      "False\n",
      "---------------\n",
      "منذ\n",
      "xxx\n",
      "True\n",
      "False\n",
      "---------------\n",
      "عام\n",
      "xxx\n",
      "True\n",
      "False\n",
      "---------------\n",
      "2005\n",
      "dddd\n",
      "False\n",
      "False\n",
      "---------------\n",
      "و\n",
      "x\n",
      "True\n",
      "False\n",
      "---------------\n",
      "لمدة\n",
      "xxxx\n",
      "True\n",
      "False\n",
      "---------------\n",
      "15\n",
      "dd\n",
      "False\n",
      "False\n",
      "---------------\n",
      "سنة\n",
      "xxx\n",
      "True\n",
      "False\n",
      "---------------\n"
     ]
    }
   ],
   "source": [
    "doc = nlp(' يعد الذكاء الإصطناعي من العلوم التي يتسارع التطور فيها بشكل لافت منذ عام 2005 و لمدة 15 سنة ')\n",
    "\n",
    "for token in doc:\n",
    "    print(token.text)\n",
    "    print(token.shape_)\n",
    "    print(token.is_alpha)\n",
    "    print(token.is_stop)\n",
    "    print('---------------')"
   ]
  },
  {
   "cell_type": "code",
   "execution_count": 15,
   "id": "f63ae2d3",
   "metadata": {
    "execution": {
     "iopub.execute_input": "2024-11-21T12:51:44.534217Z",
     "iopub.status.busy": "2024-11-21T12:51:44.533515Z",
     "iopub.status.idle": "2024-11-21T12:51:44.559560Z",
     "shell.execute_reply": "2024-11-21T12:51:44.558949Z"
    },
    "papermill": {
     "duration": 0.036396,
     "end_time": "2024-11-21T12:51:44.561225",
     "exception": false,
     "start_time": "2024-11-21T12:51:44.524829",
     "status": "completed"
    },
    "tags": []
   },
   "outputs": [],
   "source": [
    "doc2 = nlp('''\n",
    "أبو عبد الله محمد بن موسى الخوارزمي عالم رياضيات وفلك\n",
    "وجغرافيا مسلم. يكنى باسم الخوارزمي وأبي جعفر. قيل أنه ولد حوالي 164هـ 781م (وهو غير مؤكد) وقيل أنه توفي بعد 232 هـ أي (بعد 847م). يعتبر\n",
    "من أوائل علماء الرياضيات المسلمين حيث ساهمت أعماله بدور كبير في تقدم الرياضيات في عصره. اتصل بالخليفة العباسي المأمون وعمل في بيت الحكمة في \n",
    "بغداد وكسب ثقة الخليفة إذ ولاه المأمون بيت الحكمة كما عهد إليه برسم خارطة للأرض عمل فيها أكثر من سبعين جغرافيا. قبل وفاته في 850 م/232 هـ\n",
    "كان الخوارزمي قد ترك العديد من المؤلفات في علوم الرياضيات والفلك والجغرافيا ومن أهمها كتاب المختصر في حساب الجبر والمقابلة الذي يعد أهم كتبه\n",
    "\n",
    "''')"
   ]
  },
  {
   "cell_type": "code",
   "execution_count": 16,
   "id": "19108a8e",
   "metadata": {
    "execution": {
     "iopub.execute_input": "2024-11-21T12:51:44.578172Z",
     "iopub.status.busy": "2024-11-21T12:51:44.577646Z",
     "iopub.status.idle": "2024-11-21T12:51:44.582011Z",
     "shell.execute_reply": "2024-11-21T12:51:44.581094Z"
    },
    "papermill": {
     "duration": 0.014372,
     "end_time": "2024-11-21T12:51:44.583624",
     "exception": false,
     "start_time": "2024-11-21T12:51:44.569252",
     "status": "completed"
    },
    "tags": []
   },
   "outputs": [
    {
     "name": "stdout",
     "output_type": "stream",
     "text": [
      "يكنى باسم الخوارزمي وأبي جعفر. قيل أنه ولد حوالي 164هـ 781م (وهو غير مؤكد)\n"
     ]
    }
   ],
   "source": [
    "life_quote = doc2[15:33]\n",
    "print(life_quote)"
   ]
  },
  {
   "cell_type": "code",
   "execution_count": 17,
   "id": "db53f7c2",
   "metadata": {
    "execution": {
     "iopub.execute_input": "2024-11-21T12:51:44.600951Z",
     "iopub.status.busy": "2024-11-21T12:51:44.600666Z",
     "iopub.status.idle": "2024-11-21T12:51:44.612609Z",
     "shell.execute_reply": "2024-11-21T12:51:44.611552Z"
    },
    "papermill": {
     "duration": 0.022917,
     "end_time": "2024-11-21T12:51:44.614379",
     "exception": false,
     "start_time": "2024-11-21T12:51:44.591462",
     "status": "completed"
    },
    "tags": []
   },
   "outputs": [
    {
     "name": "stdout",
     "output_type": "stream",
     "text": [
      "يمكنك\n",
      "مراسلتنا\n",
      "علي\n",
      "البريد\n",
      "الإلكتروني\n",
      "للشركة\n",
      "هو\n",
      "info@hp.com\n",
      "  \n",
      "او\n",
      "تصفح\n",
      "موقع\n",
      "الشركة\n",
      "وهو\n",
      "www.hp.com\n"
     ]
    }
   ],
   "source": [
    "doc4 = nlp(u\"يمكنك مراسلتنا علي البريد الإلكتروني للشركة هو info@hp.com   او تصفح موقع الشركة وهو www.hp.com \")\n",
    "\n",
    "for token in doc4:\n",
    "    print(token)"
   ]
  },
  {
   "cell_type": "markdown",
   "id": "d9e86702",
   "metadata": {
    "papermill": {
     "duration": 0.008468,
     "end_time": "2024-11-21T12:51:44.631169",
     "exception": false,
     "start_time": "2024-11-21T12:51:44.622701",
     "status": "completed"
    },
    "tags": []
   },
   "source": [
    "## Sentence Segmentation"
   ]
  },
  {
   "cell_type": "code",
   "execution_count": 18,
   "id": "9e4e63f4",
   "metadata": {
    "execution": {
     "iopub.execute_input": "2024-11-21T12:51:44.649214Z",
     "iopub.status.busy": "2024-11-21T12:51:44.648920Z",
     "iopub.status.idle": "2024-11-21T12:51:44.662419Z",
     "shell.execute_reply": "2024-11-21T12:51:44.661650Z"
    },
    "papermill": {
     "duration": 0.024694,
     "end_time": "2024-11-21T12:51:44.664004",
     "exception": false,
     "start_time": "2024-11-21T12:51:44.639310",
     "status": "completed"
    },
    "tags": []
   },
   "outputs": [
    {
     "data": {
      "text/plain": [
       "<generator at 0x7b0cb80b0180>"
      ]
     },
     "execution_count": 18,
     "metadata": {},
     "output_type": "execute_result"
    }
   ],
   "source": [
    "doc1 = nlp(u'This is the first sentence. This is another sentence. This is the last sentence.')\n",
    "\n",
    "doc1.sents"
   ]
  },
  {
   "cell_type": "code",
   "execution_count": 19,
   "id": "4001857c",
   "metadata": {
    "execution": {
     "iopub.execute_input": "2024-11-21T12:51:44.682240Z",
     "iopub.status.busy": "2024-11-21T12:51:44.681988Z",
     "iopub.status.idle": "2024-11-21T12:51:44.686894Z",
     "shell.execute_reply": "2024-11-21T12:51:44.685810Z"
    },
    "papermill": {
     "duration": 0.016152,
     "end_time": "2024-11-21T12:51:44.688706",
     "exception": false,
     "start_time": "2024-11-21T12:51:44.672554",
     "status": "completed"
    },
    "tags": []
   },
   "outputs": [
    {
     "name": "stdout",
     "output_type": "stream",
     "text": [
      "This is the first sentence.\n",
      "This is another sentence.\n",
      "This is the last sentence.\n"
     ]
    }
   ],
   "source": [
    "for sent in doc1.sents:\n",
    "    print(sent)"
   ]
  },
  {
   "cell_type": "code",
   "execution_count": 20,
   "id": "ed36f163",
   "metadata": {
    "execution": {
     "iopub.execute_input": "2024-11-21T12:51:44.707041Z",
     "iopub.status.busy": "2024-11-21T12:51:44.706791Z",
     "iopub.status.idle": "2024-11-21T12:51:44.712779Z",
     "shell.execute_reply": "2024-11-21T12:51:44.711813Z"
    },
    "papermill": {
     "duration": 0.017349,
     "end_time": "2024-11-21T12:51:44.714530",
     "exception": false,
     "start_time": "2024-11-21T12:51:44.697181",
     "status": "completed"
    },
    "tags": []
   },
   "outputs": [
    {
     "name": "stdout",
     "output_type": "stream",
     "text": [
      "This\n"
     ]
    },
    {
     "data": {
      "text/plain": [
       "True"
      ]
     },
     "execution_count": 20,
     "metadata": {},
     "output_type": "execute_result"
    }
   ],
   "source": [
    "print(doc1[6])\n",
    "doc1[6].is_sent_start"
   ]
  },
  {
   "cell_type": "code",
   "execution_count": 21,
   "id": "39f65433",
   "metadata": {
    "execution": {
     "iopub.execute_input": "2024-11-21T12:51:44.733426Z",
     "iopub.status.busy": "2024-11-21T12:51:44.733155Z",
     "iopub.status.idle": "2024-11-21T12:51:44.737807Z",
     "shell.execute_reply": "2024-11-21T12:51:44.736904Z"
    },
    "papermill": {
     "duration": 0.015914,
     "end_time": "2024-11-21T12:51:44.739480",
     "exception": false,
     "start_time": "2024-11-21T12:51:44.723566",
     "status": "completed"
    },
    "tags": []
   },
   "outputs": [
    {
     "name": "stdout",
     "output_type": "stream",
     "text": [
      "sentence\n",
      "False\n"
     ]
    }
   ],
   "source": [
    "print(doc1[4])\n",
    "print(doc1[4].is_sent_start)"
   ]
  },
  {
   "cell_type": "code",
   "execution_count": 22,
   "id": "3b01ce0d",
   "metadata": {
    "execution": {
     "iopub.execute_input": "2024-11-21T12:51:44.759085Z",
     "iopub.status.busy": "2024-11-21T12:51:44.758828Z",
     "iopub.status.idle": "2024-11-21T12:51:44.763940Z",
     "shell.execute_reply": "2024-11-21T12:51:44.763113Z"
    },
    "papermill": {
     "duration": 0.0175,
     "end_time": "2024-11-21T12:51:44.765554",
     "exception": false,
     "start_time": "2024-11-21T12:51:44.748054",
     "status": "completed"
    },
    "tags": []
   },
   "outputs": [
    {
     "data": {
      "text/plain": [
       "This is another sentence."
      ]
     },
     "execution_count": 22,
     "metadata": {},
     "output_type": "execute_result"
    }
   ],
   "source": [
    "list(doc1.sents)[1]"
   ]
  },
  {
   "cell_type": "code",
   "execution_count": 23,
   "id": "fa0ea3b2",
   "metadata": {
    "execution": {
     "iopub.execute_input": "2024-11-21T12:51:44.783686Z",
     "iopub.status.busy": "2024-11-21T12:51:44.783438Z",
     "iopub.status.idle": "2024-11-21T12:51:44.788967Z",
     "shell.execute_reply": "2024-11-21T12:51:44.788064Z"
    },
    "papermill": {
     "duration": 0.016532,
     "end_time": "2024-11-21T12:51:44.790606",
     "exception": false,
     "start_time": "2024-11-21T12:51:44.774074",
     "status": "completed"
    },
    "tags": []
   },
   "outputs": [
    {
     "data": {
      "text/plain": [
       "[This is the first sentence.,\n",
       " This is another sentence.,\n",
       " This is the last sentence.]"
      ]
     },
     "execution_count": 23,
     "metadata": {},
     "output_type": "execute_result"
    }
   ],
   "source": [
    "doc_sents = [sent for sent in doc1.sents]\n",
    "doc_sents"
   ]
  },
  {
   "cell_type": "code",
   "execution_count": 24,
   "id": "c91cf908",
   "metadata": {
    "execution": {
     "iopub.execute_input": "2024-11-21T12:51:44.809238Z",
     "iopub.status.busy": "2024-11-21T12:51:44.808992Z",
     "iopub.status.idle": "2024-11-21T12:51:44.813464Z",
     "shell.execute_reply": "2024-11-21T12:51:44.812582Z"
    },
    "papermill": {
     "duration": 0.015614,
     "end_time": "2024-11-21T12:51:44.815249",
     "exception": false,
     "start_time": "2024-11-21T12:51:44.799635",
     "status": "completed"
    },
    "tags": []
   },
   "outputs": [
    {
     "name": "stdout",
     "output_type": "stream",
     "text": [
      "6 11\n"
     ]
    }
   ],
   "source": [
    "print(doc_sents[1].start, doc_sents[1].end)"
   ]
  },
  {
   "cell_type": "code",
   "execution_count": 25,
   "id": "17a399f9",
   "metadata": {
    "execution": {
     "iopub.execute_input": "2024-11-21T12:51:44.834421Z",
     "iopub.status.busy": "2024-11-21T12:51:44.833869Z",
     "iopub.status.idle": "2024-11-21T12:51:44.846428Z",
     "shell.execute_reply": "2024-11-21T12:51:44.845357Z"
    },
    "papermill": {
     "duration": 0.024209,
     "end_time": "2024-11-21T12:51:44.848294",
     "exception": false,
     "start_time": "2024-11-21T12:51:44.824085",
     "status": "completed"
    },
    "tags": []
   },
   "outputs": [
    {
     "name": "stdout",
     "output_type": "stream",
     "text": [
      "True  This\n",
      "False  is\n",
      "False  a\n",
      "False  sentence\n",
      "False  .\n",
      "True  that\n",
      "False  is\n",
      "False  a\n",
      "False  sentence\n",
      "False  .\n",
      "True  here\n",
      "False  is\n",
      "False  a\n",
      "False  sentence\n",
      "False  .\n"
     ]
    }
   ],
   "source": [
    "doc2 = nlp(u'This is a sentence. that is a sentence. here is a sentence.')\n",
    "\n",
    "for token in doc2:\n",
    "    print(token.is_sent_start, ' '+token.text)"
   ]
  },
  {
   "cell_type": "code",
   "execution_count": 26,
   "id": "cfdf566e",
   "metadata": {
    "execution": {
     "iopub.execute_input": "2024-11-21T12:51:44.868039Z",
     "iopub.status.busy": "2024-11-21T12:51:44.867762Z",
     "iopub.status.idle": "2024-11-21T12:51:44.881054Z",
     "shell.execute_reply": "2024-11-21T12:51:44.880143Z"
    },
    "papermill": {
     "duration": 0.024617,
     "end_time": "2024-11-21T12:51:44.882718",
     "exception": false,
     "start_time": "2024-11-21T12:51:44.858101",
     "status": "completed"
    },
    "tags": []
   },
   "outputs": [
    {
     "name": "stdout",
     "output_type": "stream",
     "text": [
      "\"Management is doing things right; leadership is doing the right things.\"\n",
      "-Peter Drucker\n"
     ]
    }
   ],
   "source": [
    "doc3 = nlp(u'\"Management is doing things right; leadership is doing the right things.\" -Peter Drucker')\n",
    "\n",
    "for sent in doc3.sents:\n",
    "    print(sent)"
   ]
  },
  {
   "cell_type": "code",
   "execution_count": 27,
   "id": "93969b56",
   "metadata": {
    "execution": {
     "iopub.execute_input": "2024-11-21T12:51:44.902530Z",
     "iopub.status.busy": "2024-11-21T12:51:44.902284Z",
     "iopub.status.idle": "2024-11-21T12:51:45.556423Z",
     "shell.execute_reply": "2024-11-21T12:51:45.555440Z"
    },
    "papermill": {
     "duration": 0.666053,
     "end_time": "2024-11-21T12:51:45.558530",
     "exception": false,
     "start_time": "2024-11-21T12:51:44.892477",
     "status": "completed"
    },
    "tags": []
   },
   "outputs": [
    {
     "name": "stdout",
     "output_type": "stream",
     "text": [
      "['tok2vec', 'tagger', 'set_custom_boundaries', 'parser', 'attribute_ruler', 'lemmatizer', 'ner']\n"
     ]
    }
   ],
   "source": [
    "import spacy\n",
    "from spacy.language import Language\n",
    "\n",
    "# تحميل النموذج اللغوي\n",
    "nlp = spacy.load(\"en_core_web_sm\")\n",
    "\n",
    "# إضافة decorator لتسجيل الدالة كـ component\n",
    "@Language.component(\"set_custom_boundaries\")\n",
    "def set_custom_boundaries(doc):\n",
    "    for token in doc[:-1]:\n",
    "        if token.text == ';':\n",
    "            doc[token.i+1].is_sent_start = True\n",
    "    return doc\n",
    "\n",
    "# إضافة الدالة إلى الـ pipeline قبل الـ parser باستخدام اسم الـ component\n",
    "nlp.add_pipe(\"set_custom_boundaries\", before=\"parser\")\n",
    "\n",
    "# عرض جميع الـ pipes في الـ pipeline\n",
    "print(nlp.pipe_names)\n"
   ]
  },
  {
   "cell_type": "code",
   "execution_count": 28,
   "id": "9bbfd522",
   "metadata": {
    "execution": {
     "iopub.execute_input": "2024-11-21T12:51:45.580266Z",
     "iopub.status.busy": "2024-11-21T12:51:45.579946Z",
     "iopub.status.idle": "2024-11-21T12:51:45.594575Z",
     "shell.execute_reply": "2024-11-21T12:51:45.593618Z"
    },
    "papermill": {
     "duration": 0.027783,
     "end_time": "2024-11-21T12:51:45.596660",
     "exception": false,
     "start_time": "2024-11-21T12:51:45.568877",
     "status": "completed"
    },
    "tags": []
   },
   "outputs": [
    {
     "name": "stdout",
     "output_type": "stream",
     "text": [
      "\"Management is doing things right;\n",
      "leadership is doing the right things.\"\n",
      "-Peter Drucker\n"
     ]
    }
   ],
   "source": [
    "doc4 = nlp(u'\"Management is doing things right; leadership is doing the right things.\" -Peter Drucker')\n",
    "\n",
    "for sent in doc4.sents:\n",
    "    print(sent)"
   ]
  },
  {
   "cell_type": "code",
   "execution_count": 29,
   "id": "109d99a8",
   "metadata": {
    "execution": {
     "iopub.execute_input": "2024-11-21T12:51:45.618829Z",
     "iopub.status.busy": "2024-11-21T12:51:45.618529Z",
     "iopub.status.idle": "2024-11-21T12:51:45.630979Z",
     "shell.execute_reply": "2024-11-21T12:51:45.629971Z"
    },
    "papermill": {
     "duration": 0.024875,
     "end_time": "2024-11-21T12:51:45.632521",
     "exception": false,
     "start_time": "2024-11-21T12:51:45.607646",
     "status": "completed"
    },
    "tags": []
   },
   "outputs": [
    {
     "name": "stdout",
     "output_type": "stream",
     "text": [
      "هذه هي الجملة الأولي ., هذه هي الجملة الثانية , والجملة الثالثة\n",
      "-------------------\n"
     ]
    }
   ],
   "source": [
    "doc1 = nlp('هذه هي الجملة الأولي ., هذه هي الجملة الثانية , والجملة الثالثة')\n",
    "\n",
    "for sent in doc1.sents:\n",
    "    print(sent)\n",
    "    print('-------------------')"
   ]
  },
  {
   "cell_type": "code",
   "execution_count": 30,
   "id": "b26ce831",
   "metadata": {
    "execution": {
     "iopub.execute_input": "2024-11-21T12:51:45.651650Z",
     "iopub.status.busy": "2024-11-21T12:51:45.651373Z",
     "iopub.status.idle": "2024-11-21T12:51:45.656698Z",
     "shell.execute_reply": "2024-11-21T12:51:45.655917Z"
    },
    "papermill": {
     "duration": 0.016996,
     "end_time": "2024-11-21T12:51:45.658397",
     "exception": false,
     "start_time": "2024-11-21T12:51:45.641401",
     "status": "completed"
    },
    "tags": []
   },
   "outputs": [
    {
     "data": {
      "text/plain": [
       "[هذه هي الجملة الأولي ., هذه هي الجملة الثانية , والجملة الثالثة]"
      ]
     },
     "execution_count": 30,
     "metadata": {},
     "output_type": "execute_result"
    }
   ],
   "source": [
    "doc_sents = [sent for sent in doc1.sents]\n",
    "doc_sents"
   ]
  },
  {
   "cell_type": "code",
   "execution_count": 31,
   "id": "43df0f38",
   "metadata": {
    "execution": {
     "iopub.execute_input": "2024-11-21T12:51:45.677641Z",
     "iopub.status.busy": "2024-11-21T12:51:45.677134Z",
     "iopub.status.idle": "2024-11-21T12:51:45.688263Z",
     "shell.execute_reply": "2024-11-21T12:51:45.687137Z"
    },
    "papermill": {
     "duration": 0.023015,
     "end_time": "2024-11-21T12:51:45.690187",
     "exception": false,
     "start_time": "2024-11-21T12:51:45.667172",
     "status": "completed"
    },
    "tags": []
   },
   "outputs": [
    {
     "name": "stdout",
     "output_type": "stream",
     "text": [
      "True  هذه\n",
      "False  هي\n",
      "False  الجملة\n",
      "False  الأولي\n",
      "False  .\n",
      "False  ,\n",
      "False  هذه\n",
      "False  هي\n",
      "False  الجملة\n",
      "False  الثانية\n",
      "False  ,\n",
      "False  والجملة\n",
      "False  الثالثة\n"
     ]
    }
   ],
   "source": [
    "doc3 = nlp('هذه هي الجملة الأولي ., هذه هي الجملة الثانية , والجملة الثالثة')\n",
    "\n",
    "for token in doc3:\n",
    "    print(token.is_sent_start, ' '+token.text)\n"
   ]
  },
  {
   "cell_type": "code",
   "execution_count": null,
   "id": "c854fde8",
   "metadata": {
    "papermill": {
     "duration": 0.009118,
     "end_time": "2024-11-21T12:51:45.709171",
     "exception": false,
     "start_time": "2024-11-21T12:51:45.700053",
     "status": "completed"
    },
    "tags": []
   },
   "outputs": [],
   "source": []
  }
 ],
 "metadata": {
  "kaggle": {
   "accelerator": "gpu",
   "dataSources": [],
   "dockerImageVersionId": 30787,
   "isGpuEnabled": true,
   "isInternetEnabled": true,
   "language": "python",
   "sourceType": "notebook"
  },
  "kernelspec": {
   "display_name": "Python 3",
   "language": "python",
   "name": "python3"
  },
  "language_info": {
   "codemirror_mode": {
    "name": "ipython",
    "version": 3
   },
   "file_extension": ".py",
   "mimetype": "text/x-python",
   "name": "python",
   "nbconvert_exporter": "python",
   "pygments_lexer": "ipython3",
   "version": "3.10.14"
  },
  "papermill": {
   "default_parameters": {},
   "duration": 32.22103,
   "end_time": "2024-11-21T12:51:46.939767",
   "environment_variables": {},
   "exception": null,
   "input_path": "__notebook__.ipynb",
   "output_path": "__notebook__.ipynb",
   "parameters": {},
   "start_time": "2024-11-21T12:51:14.718737",
   "version": "2.6.0"
  }
 },
 "nbformat": 4,
 "nbformat_minor": 5
}
